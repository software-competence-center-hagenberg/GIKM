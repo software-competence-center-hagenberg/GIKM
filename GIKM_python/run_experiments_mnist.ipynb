{
 "cells": [
  {
   "cell_type": "code",
   "execution_count": null,
   "metadata": {},
   "outputs": [],
   "source": [
    "import numpy as np\n",
    "from sklearn.cluster import KMeans\n",
    "from sklearn.decomposition import PCA\n",
    "from sklearn.metrics.pairwise import pairwise_distances\n",
    "import os\n",
    "import scipy"
   ]
  },
  {
   "cell_type": "code",
   "execution_count": null,
   "metadata": {},
   "outputs": [],
   "source": [
    "def run_experiments_mnist():\n",
    "    # Construct the file path for the .mat file\n",
    "    # Assuming the current working directory is the Python equivalent of MATLAB's pwd\n",
    "    dataset_path = os.path.join(os.getcwd().replace('GIKM', 'Datasets'), 'MNIST', 'mnist_all.mat')\n",
    "    \n",
    "    # Load the .mat file\n",
    "    data = scipy.io.loadmat(dataset_path)\n",
    "    \n",
    "    # Extract and convert train and test data to double (float) and normalize\n",
    "    train0 = data['train0']\n",
    "    train1 = data['train1']\n",
    "    train2 = data['train2']\n",
    "    train3 = data['train3']\n",
    "    train4 = data['train4']\n",
    "    train5 = data['train5']\n",
    "    train6 = data['train6']\n",
    "    train7 = data['train7']\n",
    "    train8 = data['train8']\n",
    "    train9 = data['train9']\n",
    "    \n",
    "    # Concatenate all training data and normalize by dividing by 255\n",
    "    y_data_trn = np.hstack([\n",
    "        train0.T, train1.T, train2.T, train3.T, train4.T,\n",
    "        train5.T, train6.T, train7.T, train8.T, train9.T\n",
    "    ]).astype(np.float64) / 255.0\n",
    "    \n",
    "    # Print the shape of the training data for verification\n",
    "    print(\"Shape of y_data_trn:\", y_data_trn.shape)\n",
    "\n",
    "    # Similarly, load test data if needed\n",
    "    # test0 = data['test0']\n",
    "    # test1 = data['test1']\n",
    "    # ...\n",
    "    # and concatenate them as needed\n",
    "\n",
    "# Run the function to load the data\n",
    "run_experiments_mnist()"
   ]
  }
 ],
 "metadata": {
  "language_info": {
   "name": "python"
  }
 },
 "nbformat": 4,
 "nbformat_minor": 2
}
